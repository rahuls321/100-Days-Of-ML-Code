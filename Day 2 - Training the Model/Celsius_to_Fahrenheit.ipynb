{
  "nbformat": 4,
  "nbformat_minor": 0,
  "metadata": {
    "colab": {
      "name": "Celsius to Fahrenheit.ipynb",
      "version": "0.3.2",
      "provenance": []
    },
    "kernelspec": {
      "name": "python3",
      "display_name": "Python 3"
    }
  },
  "cells": [
    {
      "metadata": {
        "id": "Z0NOjOnDUTB4",
        "colab_type": "text"
      },
      "cell_type": "markdown",
      "source": [
        "# The Basics: Training The First Model"
      ]
    },
    {
      "metadata": {
        "id": "dqLpPCnAUpA5",
        "colab_type": "text"
      },
      "cell_type": "markdown",
      "source": [
        "# Import dependencies\n",
        "First, import TensorFlow. Here, we're calling it tf for ease of use. \n",
        "\n",
        "Next, import NumPy as np. Numpy helps us to represent our data as highly performant lists."
      ]
    },
    {
      "metadata": {
        "id": "8sC1PQh4UsZT",
        "colab_type": "code",
        "colab": {}
      },
      "cell_type": "code",
      "source": [
        "import tensorflow as tf\n",
        "import numpy as np"
      ],
      "execution_count": 0,
      "outputs": []
    },
    {
      "metadata": {
        "id": "L5inO-zGVVso",
        "colab_type": "text"
      },
      "cell_type": "markdown",
      "source": [
        "# Set up training data\n",
        "To create a model that can give the temperature in Fahrenhet when given the degrees in Celsius, we create two lists celsius_q and fahrenheit_a that we can use to train our model.\n",
        "to convert from Celsius to Fahrenheit, where the approximate formula is:\n",
        "\n",
        ">`F=C×1.8+32`"
      ]
    },
    {
      "metadata": {
        "id": "LNUlZrzlVqHw",
        "colab_type": "code",
        "colab": {
          "base_uri": "https://localhost:8080/",
          "height": 136
        },
        "outputId": "1841dd30-fb8f-449d-b985-9f4875de05af"
      },
      "cell_type": "code",
      "source": [
        "celsius_q    = np.array([-40, -10,  0,  8, 15, 22,  38],  dtype=float)\n",
        "fahrenheit_a = np.array([-40,  14, 32, 46, 59, 72, 100],  dtype=float)\n",
        "\n",
        "for i,c in enumerate(celsius_q):\n",
        "  print(\"{} degrees Celsius = {} degrees Fahrenhet\".format(c, fahrenheit_a[i]))"
      ],
      "execution_count": 3,
      "outputs": [
        {
          "output_type": "stream",
          "text": [
            "-40.0 degrees Celsius = -40.0 degrees Fahrenhet\n",
            "-10.0 degrees Celsius = 14.0 degrees Fahrenhet\n",
            "0.0 degrees Celsius = 32.0 degrees Fahrenhet\n",
            "8.0 degrees Celsius = 46.0 degrees Fahrenhet\n",
            "15.0 degrees Celsius = 59.0 degrees Fahrenhet\n",
            "22.0 degrees Celsius = 72.0 degrees Fahrenhet\n",
            "38.0 degrees Celsius = 100.0 degrees Fahrenhet\n"
          ],
          "name": "stdout"
        }
      ]
    },
    {
      "metadata": {
        "id": "Iexm4F3aX-Vo",
        "colab_type": "text"
      },
      "cell_type": "markdown",
      "source": [
        "# Create the model\n",
        "Next create the model. We will use simplest possible model we can, a Dense network. Since the problem is straightforward, this network will require only a single layer, with a single neuron.\n",
        "\n",
        "## Build a layer\n",
        "Keras layers are the fundamental building block of keras models. \n",
        "We'll call the layer l0 and create it by instantiating tf.keras.layers.Dense with the following configuration:\n",
        "**Dense layer**- Just  like regular densely-connected NN layer.\n",
        "\n",
        "**input_shape**=[1] — This specifies that the input to this layer is a single value. That is, the shape is a one-dimensional array with one member. Since this is the first (and only) layer, that input shape is the input shape of the entire model. The single value is a floating point number, representing degrees Celcius.\n",
        "\n",
        "**units**=1 — This specifies the number of neurons in the layer. The number of neurons defines how many internal variables the layer has to try to learn how to solve the problem (more later). Since this is the final layer, it is also the size of the model's output — a single float value representing degrees Fahrenheit. (In a multi-layered network, the size and shape of the later would need to match the input_shape of the next layer.)\n",
        "\n",
        ">![alt text](https://qph.fs.quoracdn.net/main-qimg-d438091abeecdfaa049b5a046bd7f4b7)"
      ]
    },
    {
      "metadata": {
        "id": "_lSWvOp9YBgR",
        "colab_type": "code",
        "colab": {}
      },
      "cell_type": "code",
      "source": [
        "l0 = tf.keras.layers.Dense(units=1, input_shape=[1])"
      ],
      "execution_count": 0,
      "outputs": []
    },
    {
      "metadata": {
        "id": "VkiGTWu2e4xr",
        "colab_type": "text"
      },
      "cell_type": "markdown",
      "source": [
        "## Assemble layers into the model\n",
        "Machine learning models are homogeneous to functions that will predict some output for a particular given input. Once layers are defined, they need to be assembled into a model. The Sequential model definition takes a list of layers as argument, specifying the calculation order from the input to the output.\n",
        "\n",
        "This model has just a single layer, l0."
      ]
    },
    {
      "metadata": {
        "id": "wbdGpCoze6cq",
        "colab_type": "code",
        "colab": {}
      },
      "cell_type": "code",
      "source": [
        "model = tf.keras.Sequential([l0])"
      ],
      "execution_count": 0,
      "outputs": []
    },
    {
      "metadata": {
        "id": "1N6oXGZ_h3x6",
        "colab_type": "text"
      },
      "cell_type": "markdown",
      "source": [
        "**Note**\n",
        "\n",
        "You will often see the layers defined inside the model definition, rather than beforehand:\n",
        "\n",
        ">model = tf.keras.Sequential([\n",
        "  tf.keras.layers.Dense(units=1, input_shape=[1])\n",
        "])"
      ]
    },
    {
      "metadata": {
        "id": "bBVs0gaTixDL",
        "colab_type": "text"
      },
      "cell_type": "markdown",
      "source": [
        "# Compile the model, with loss and optimizer functions\n",
        "Before training, the model has to be compiled. When compiled for training, the model is given:\n",
        "\n",
        "**Loss function** — A way of measuring how far off predictions are from the desired outcome. (The measured difference is called the \"loss\").\n",
        "\n",
        "**Optimizer function **— A way of adjusting internal values in order to reduce the loss."
      ]
    },
    {
      "metadata": {
        "id": "A1xMJmAch-7g",
        "colab_type": "code",
        "colab": {}
      },
      "cell_type": "code",
      "source": [
        "model.compile(loss = \"mean_squared_error\", optimizer=tf.keras.optimizers.Adam(0.1))"
      ],
      "execution_count": 0,
      "outputs": []
    },
    {
      "metadata": {
        "id": "nKjBooQRl7Ys",
        "colab_type": "text"
      },
      "cell_type": "markdown",
      "source": [
        "These are used during training (model.fit(), below) to first calculate the loss at each point, and then improve it. In fact, the act of calculating the current loss of a model and then improving it is precisely what training is.\n",
        "\n",
        "During training, the optimizer function is used to calculate adjustments to the model's internal variables. The goal is to adjust the internal variables until the model (which is really a math function) mirrors the actual equation for converting Celsius to Fahrenheit.\n",
        "\n",
        "The loss function ([mean squared error](https://en.wikipedia.org/wiki/Mean_squared_error)) and the optimizer ([Adam](https://machinelearningmastery.com/adam-optimization-algorithm-for-deep-learning/)) used here are standard for simple models like this one, but many others are available. It is not important to know how these specific functions work at this point.\n",
        "\n",
        "Some advantages of Adam include:\n",
        "\n",
        "*   Relatively low memory requirements (though higher than gradient descent and gradient descent with momentum)\n",
        "*   Usually works well even with little tuning of hyperparameters.\n",
        "\n",
        "One part of the Optimizer you may need to think about when building your own models is the learnign rate (0.1 in the code above). This is the step size taken when adjusting values in the model. If the value is too small, it will take too many iterations to train the model. Too large, and accuracy goes down. Finding a good value often involves some trial and error, but the range is usually within 0.001 (default), and 0.1"
      ]
    },
    {
      "metadata": {
        "id": "1Bt1_5dhmxao",
        "colab_type": "text"
      },
      "cell_type": "markdown",
      "source": [
        "# Train the model\n",
        "Train the model by calling the fit method.\n",
        "\n",
        "During training, the model takes in Celsius values, performs a calculation using the current internal variables (called \"weights\") and outputs values which are meant to be the Fahrenheit equivalent. Since the weights are intially set randomly, the output will not be close to the correct value. The difference between the actual output and the desired output is calculated using the loss function, and the optimizer function directs how the weights should be adjusted.\n",
        "\n",
        "This cycle of calculate, compare, adjust is controlled by the fit method. The first argument is the inputs, the second argument is the desired outputs. The epochs argument specifies how many times this cycle should be run, and the verbose argument controls how much output the method produces.\n",
        "\n",
        "\n",
        "*   Epochs - It is a measure of the number of times all of the training vectors are used once to update the weights.\n",
        "*   Verbose - will just mention the number of epoch like this: \n",
        "  \n",
        "  ![alt text](https://i.stack.imgur.com/s43II.png)\n",
        "  \n",
        "  ![alt text](https://i.stack.imgur.com/gxbMD.png)\n",
        "  \n",
        "\n"
      ]
    },
    {
      "metadata": {
        "id": "9DCrl7Z-ltDo",
        "colab_type": "code",
        "colab": {
          "base_uri": "https://localhost:8080/",
          "height": 34
        },
        "outputId": "294ca0d5-2d30-44fa-eb8b-61110f656ff6"
      },
      "cell_type": "code",
      "source": [
        "history = model.fit(celsius_q, fahrenheit_a, epochs=500, verbose=False)\n",
        "print(\"Finished training the model\")"
      ],
      "execution_count": 11,
      "outputs": [
        {
          "output_type": "stream",
          "text": [
            "Finished training the model\n"
          ],
          "name": "stdout"
        }
      ]
    },
    {
      "metadata": {
        "id": "teblJdh2rWA3",
        "colab_type": "text"
      },
      "cell_type": "markdown",
      "source": [
        "# Display training statistics\n",
        "The fit method returns a history object. We can use this object to plot how the loss of our model goes down after each training epoch. A high loss means that the Fahrenheit degrees the model predicts is far from the corresponding value in fahrenheit_a.\n",
        "\n",
        "We'll use Matplotlib to visualize this. As we can see, our model improves very quickly at first, and then has a steady, slow improvement until it is very near \"perfect\" towards the end."
      ]
    },
    {
      "metadata": {
        "id": "J1XrK-oZqIGL",
        "colab_type": "code",
        "colab": {
          "base_uri": "https://localhost:8080/",
          "height": 378
        },
        "outputId": "7557d4fc-32d1-4b85-f442-c251af5e6442"
      },
      "cell_type": "code",
      "source": [
        "import matplotlib.pyplot as plt\n",
        "plt.xlabel('Epoch Number')\n",
        "plt.ylabel(\"Loss Magnitude\")\n",
        "plt.plot(history.history['loss'])"
      ],
      "execution_count": 12,
      "outputs": [
        {
          "output_type": "execute_result",
          "data": {
            "text/plain": [
              "[<matplotlib.lines.Line2D at 0x7f89cb497160>]"
            ]
          },
          "metadata": {
            "tags": []
          },
          "execution_count": 12
        },
        {
          "output_type": "display_data",
          "data": {
            "image/png": "[encoded data removed]",
            "text/plain": [
              "<Figure size 576x396 with 1 Axes>"
            ]
          },
          "metadata": {
            "tags": []
          }
        }
      ]
    },
    {
      "metadata": {
        "id": "DvJZwDQtshrV",
        "colab_type": "text"
      },
      "cell_type": "markdown",
      "source": [
        "## Use the model to predict values\n",
        "Now you have a model that has been trained to learn the relationshop between celsius_q and fahrenheit_a. We can use the predict method to have it calculate the Fahrenheit degrees for a previously unknown Celsius degrees.\n",
        "So, for example, if the Celsius value is 100, what the Fahrenheit result will be? "
      ]
    },
    {
      "metadata": {
        "id": "wUqkrGckrp1b",
        "colab_type": "code",
        "colab": {
          "base_uri": "https://localhost:8080/",
          "height": 34
        },
        "outputId": "1bf0fca2-5129-4117-ac54-77f4b0594ccb"
      },
      "cell_type": "code",
      "source": [
        "print(model.predict([100.1]))"
      ],
      "execution_count": 13,
      "outputs": [
        {
          "output_type": "stream",
          "text": [
            "[[211.92294]]\n"
          ],
          "name": "stdout"
        }
      ]
    },
    {
      "metadata": {
        "id": "_-Ue0e9YtmME",
        "colab_type": "text"
      },
      "cell_type": "markdown",
      "source": [
        "The correct answer is  100×1.8+32=212 , so our model is doing really well."
      ]
    },
    {
      "metadata": {
        "id": "jicF18qwuTcU",
        "colab_type": "text"
      },
      "cell_type": "markdown",
      "source": [
        "### To review\n",
        "\n",
        "*   We created a model with a Dense layer\n",
        "*   We trained it with 3500 examples (7 pairs, over 500 epochs)\n",
        "\n",
        "Our model tuned the variables (weights) in the Dense layer until it was able to return the correct Fahrenheit value for any Celsius value. (Remember, 100 Celsius was not part of our training data.)\n",
        "\n",
        "\n",
        "\n",
        "\n",
        "\n"
      ]
    },
    {
      "metadata": {
        "id": "wElBaJzgvaIw",
        "colab_type": "text"
      },
      "cell_type": "markdown",
      "source": [
        "## Looking at the layer weights\n",
        "Finally, let's print the internal variables of the Dense layer."
      ]
    },
    {
      "metadata": {
        "id": "tDZsdELOte5x",
        "colab_type": "code",
        "colab": {
          "base_uri": "https://localhost:8080/",
          "height": 34
        },
        "outputId": "582a413f-396a-46b7-d40c-db67f3d5dce4"
      },
      "cell_type": "code",
      "source": [
        "print(\"These are the layer variables: {}\".format(l0.get_weights()))"
      ],
      "execution_count": 14,
      "outputs": [
        {
          "output_type": "stream",
          "text": [
            "These are the layer variables: [array([[1.7982017]], dtype=float32), array([31.92296], dtype=float32)]\n"
          ],
          "name": "stdout"
        }
      ]
    },
    {
      "metadata": {
        "id": "WWF2-fq0vlsy",
        "colab_type": "text"
      },
      "cell_type": "markdown",
      "source": [
        "The first variable is close to ~1.8 and the second to ~32. These values (1.8 and 32) are the actual variables in the real conversion formula.\n",
        "\n",
        "This is really close to the values in the conversion formula. We'll explain this in an upcoming video where we show how a Dense layer works, but for a single neuron with a single input and a single output, the internal math looks the same as the equation for a line,  **𝑦=𝑚𝑥+𝑏** , which has the same form as the conversion equation    \n",
        "\n",
        "> F=1.8*C+32.\n",
        "\n",
        "Since the form is the same, the variables should converge on the standard values of 1.8 and 32, which is exactly what happened.\n",
        "\n",
        "With additional neurons, additional inputs, and additional outputs, the formula becomes much more complex, but the idea is the same."
      ]
    },
    {
      "metadata": {
        "id": "IDdfCn2Xwb1j",
        "colab_type": "text"
      },
      "cell_type": "markdown",
      "source": [
        "### A little experiment\n",
        "Just for fun, what if we created more Dense layers with different units, which therefore also has more variables?"
      ]
    },
    {
      "metadata": {
        "id": "m2d4SAYPvhAk",
        "colab_type": "code",
        "colab": {
          "base_uri": "https://localhost:8080/",
          "height": 238
        },
        "outputId": "e41f4fbd-2ec6-466e-ca63-6dd2f9434b3b"
      },
      "cell_type": "code",
      "source": [
        "l0 = tf.keras.layers.Dense(units=4, input_shape=[1])\n",
        "l1 = tf.keras.layers.Dense(units=4)\n",
        "l2 = tf.keras.layers.Dense(units=1)\n",
        "model = tf.keras.Sequential([l0,l1,l2])\n",
        "model.compile(loss=\"mean_squared_error\", optimizer=tf.keras.optimizers.Adam(0.1))\n",
        "history = model.fit(celsius_q, fahrenheit_a, epochs=500, verbose=False)\n",
        "print(\"Finished training the model\")\n",
        "print(model.predict([100.1]))\n",
        "print(\"These are the layer variables l0: {}\".format(l0.get_weights()))\n",
        "print(\"These are the layer variables l1: {}\".format(l1.get_weights()))\n",
        "print(\"These are the layer variables l2: {}\".format(l2.get_weights()))"
      ],
      "execution_count": 21,
      "outputs": [
        {
          "output_type": "stream",
          "text": [
            "Finished training the model\n",
            "[[211.92722]]\n",
            "These are the layer variables l0: [array([[ 0.39655232,  0.03820269, -0.5708938 , -0.15478069]],\n",
            "      dtype=float32), array([ 3.282667 , -1.3668424, -3.3018568,  2.8341215], dtype=float32)]\n",
            "These are the layer variables l1: [array([[ 0.22638088,  0.8466238 ,  0.9748409 , -0.5792423 ],\n",
            "       [ 0.6749271 ,  0.40884373, -0.68841195, -0.12399245],\n",
            "       [-0.48555604, -0.82874346, -0.52104485,  0.4719266 ],\n",
            "       [ 0.42637601, -0.04397179,  0.57036215, -0.49415302]],\n",
            "      dtype=float32), array([ 3.1750004,  3.3453674,  3.2879949, -2.9612942], dtype=float32)]\n",
            "These are the layer variables l2: [array([[ 0.578743  ],\n",
            "       [ 0.61045784],\n",
            "       [ 1.1952169 ],\n",
            "       [-0.9845124 ]], dtype=float32), array([3.1985102], dtype=float32)]\n"
          ],
          "name": "stdout"
        }
      ]
    },
    {
      "metadata": {
        "id": "jGQrWQyW1mCJ",
        "colab_type": "text"
      },
      "cell_type": "markdown",
      "source": [
        "As ywe can see, this model is also able to predict the corresponding Fahrenheit value really well. But when we look at the variables (weights) in the l0 and l1 layers, they are nothing even close to ~1.8 and ~32. The added complexity hides the \"simple\" form of the conversion equation."
      ]
    },
    {
      "metadata": {
        "id": "ZSzgGZIo0-M8",
        "colab_type": "code",
        "colab": {}
      },
      "cell_type": "code",
      "source": [
        ""
      ],
      "execution_count": 0,
      "outputs": []
    }
  ]
}